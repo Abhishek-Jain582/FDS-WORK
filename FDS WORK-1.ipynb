{
 "cells": [
  {
   "cell_type": "code",
   "execution_count": 1,
   "id": "australian-black",
   "metadata": {},
   "outputs": [],
   "source": [
    "import pandas as pd"
   ]
  },
  {
   "cell_type": "code",
   "execution_count": 2,
   "id": "standard-layer",
   "metadata": {},
   "outputs": [],
   "source": [
    "import numpy as np"
   ]
  },
  {
   "cell_type": "code",
   "execution_count": 3,
   "id": "informed-fault",
   "metadata": {},
   "outputs": [],
   "source": [
    "import matplotlib.pyplot as plt"
   ]
  },
  {
   "cell_type": "code",
   "execution_count": 4,
   "id": "alleged-generator",
   "metadata": {},
   "outputs": [],
   "source": [
    "df=pd.read_excel('hw.xlsx')"
   ]
  },
  {
   "cell_type": "code",
   "execution_count": 15,
   "id": "subject-union",
   "metadata": {},
   "outputs": [],
   "source": [
    "from numpy import random"
   ]
  },
  {
   "cell_type": "code",
   "execution_count": 5,
   "id": "received-lease",
   "metadata": {},
   "outputs": [
    {
     "data": {
      "text/html": [
       "<div>\n",
       "<style scoped>\n",
       "    .dataframe tbody tr th:only-of-type {\n",
       "        vertical-align: middle;\n",
       "    }\n",
       "\n",
       "    .dataframe tbody tr th {\n",
       "        vertical-align: top;\n",
       "    }\n",
       "\n",
       "    .dataframe thead th {\n",
       "        text-align: right;\n",
       "    }\n",
       "</style>\n",
       "<table border=\"1\" class=\"dataframe\">\n",
       "  <thead>\n",
       "    <tr style=\"text-align: right;\">\n",
       "      <th></th>\n",
       "      <th>Name</th>\n",
       "      <th>Age</th>\n",
       "      <th>Height_cm</th>\n",
       "      <th>Weight_kg</th>\n",
       "      <th>Gender</th>\n",
       "    </tr>\n",
       "  </thead>\n",
       "  <tbody>\n",
       "    <tr>\n",
       "      <th>0</th>\n",
       "      <td>Arjun</td>\n",
       "      <td>16</td>\n",
       "      <td>173.5</td>\n",
       "      <td>65</td>\n",
       "      <td>Male</td>\n",
       "    </tr>\n",
       "    <tr>\n",
       "      <th>1</th>\n",
       "      <td>Amit</td>\n",
       "      <td>16</td>\n",
       "      <td>170.0</td>\n",
       "      <td>53</td>\n",
       "      <td>Male</td>\n",
       "    </tr>\n",
       "    <tr>\n",
       "      <th>2</th>\n",
       "      <td>Birju</td>\n",
       "      <td>17</td>\n",
       "      <td>169.5</td>\n",
       "      <td>70</td>\n",
       "      <td>Male</td>\n",
       "    </tr>\n",
       "    <tr>\n",
       "      <th>3</th>\n",
       "      <td>Bhavesh</td>\n",
       "      <td>15</td>\n",
       "      <td>173.5</td>\n",
       "      <td>69</td>\n",
       "      <td>Male</td>\n",
       "    </tr>\n",
       "    <tr>\n",
       "      <th>4</th>\n",
       "      <td>Chetan</td>\n",
       "      <td>16</td>\n",
       "      <td>175.5</td>\n",
       "      <td>81</td>\n",
       "      <td>Male</td>\n",
       "    </tr>\n",
       "    <tr>\n",
       "      <th>5</th>\n",
       "      <td>Chaya</td>\n",
       "      <td>17</td>\n",
       "      <td>165.5</td>\n",
       "      <td>50</td>\n",
       "      <td>Female</td>\n",
       "    </tr>\n",
       "    <tr>\n",
       "      <th>6</th>\n",
       "      <td>Divya</td>\n",
       "      <td>15</td>\n",
       "      <td>166.5</td>\n",
       "      <td>55</td>\n",
       "      <td>Female</td>\n",
       "    </tr>\n",
       "    <tr>\n",
       "      <th>7</th>\n",
       "      <td>Farhan</td>\n",
       "      <td>16</td>\n",
       "      <td>173.5</td>\n",
       "      <td>57</td>\n",
       "      <td>Male</td>\n",
       "    </tr>\n",
       "    <tr>\n",
       "      <th>8</th>\n",
       "      <td>Fatima</td>\n",
       "      <td>17</td>\n",
       "      <td>166.5</td>\n",
       "      <td>56</td>\n",
       "      <td>Female</td>\n",
       "    </tr>\n",
       "    <tr>\n",
       "      <th>9</th>\n",
       "      <td>Zaheer</td>\n",
       "      <td>16</td>\n",
       "      <td>170.0</td>\n",
       "      <td>60</td>\n",
       "      <td>Male</td>\n",
       "    </tr>\n",
       "  </tbody>\n",
       "</table>\n",
       "</div>"
      ],
      "text/plain": [
       "      Name  Age  Height_cm  Weight_kg  Gender\n",
       "0    Arjun   16      173.5         65    Male\n",
       "1     Amit   16      170.0         53    Male\n",
       "2    Birju   17      169.5         70    Male\n",
       "3  Bhavesh   15      173.5         69    Male\n",
       "4   Chetan   16      175.5         81    Male\n",
       "5    Chaya   17      165.5         50  Female\n",
       "6    Divya   15      166.5         55  Female\n",
       "7   Farhan   16      173.5         57    Male\n",
       "8   Fatima   17      166.5         56  Female\n",
       "9   Zaheer   16      170.0         60    Male"
      ]
     },
     "execution_count": 5,
     "metadata": {},
     "output_type": "execute_result"
    }
   ],
   "source": [
    "df\n"
   ]
  },
  {
   "cell_type": "code",
   "execution_count": 6,
   "id": "signal-farming",
   "metadata": {},
   "outputs": [
    {
     "name": "stdout",
     "output_type": "stream",
     "text": [
      "10\n"
     ]
    }
   ],
   "source": [
    "# Numbers of student in the given class?\n",
    "r=df.shape[0]\n",
    "print(r)"
   ]
  },
  {
   "cell_type": "code",
   "execution_count": 8,
   "id": "binary-consent",
   "metadata": {},
   "outputs": [
    {
     "name": "stdout",
     "output_type": "stream",
     "text": [
      "16.1\n"
     ]
    }
   ],
   "source": [
    "#What is the average age in the given class?\n",
    "avg=df['Age'].mean()\n",
    "print(avg)"
   ]
  },
  {
   "cell_type": "code",
   "execution_count": 11,
   "id": "functioning-bachelor",
   "metadata": {},
   "outputs": [
    {
     "name": "stdout",
     "output_type": "stream",
     "text": [
      "average weight=61 Kg\n",
      "average height=170 CM\n"
     ]
    }
   ],
   "source": [
    "#What is the average weight and height in the given class?\n",
    "avg_h=df['Height_cm'].mean()\n",
    "avg_w=df['Weight_kg'].mean()\n",
    "print(\"average weight=%d Kg\"%avg_w)\n",
    "print(\"average height=%d CM\"%avg_h)"
   ]
  },
  {
   "cell_type": "code",
   "execution_count": 13,
   "id": "minute-vietnamese",
   "metadata": {},
   "outputs": [
    {
     "name": "stdout",
     "output_type": "stream",
     "text": [
      "maximum height=175\n",
      "minimun height=165\n",
      "maximum weight=81\n",
      "minimum weight=50\n"
     ]
    }
   ],
   "source": [
    "#what is the maximum and minimum Height and weight in the given class?\n",
    "max_h=df['Height_cm'].max()\n",
    "min_h=df['Height_cm'].min()\n",
    "max_w=df['Weight_kg'].max()\n",
    "min_w=df['Weight_kg'].min()\n",
    "print('maximum height=%d'%max_h)\n",
    "print('minimun height=%d'%min_h)\n",
    "print('maximum weight=%d'%max_w)\n",
    "print('minimum weight=%d'%min_w)"
   ]
  },
  {
   "cell_type": "code",
   "execution_count": 14,
   "id": "legendary-cleanup",
   "metadata": {},
   "outputs": [
    {
     "name": "stdout",
     "output_type": "stream",
     "text": [
      "9.547541859324607\n"
     ]
    }
   ],
   "source": [
    "#How much values of weight are spread about mean?\n",
    "s=df['Weight_kg'].std()\n",
    "print(s)"
   ]
  },
  {
   "cell_type": "code",
   "execution_count": 20,
   "id": "romance-newspaper",
   "metadata": {},
   "outputs": [
    {
     "data": {
      "text/plain": [
       "<matplotlib.collections.PathCollection at 0x1f6be5b8b80>"
      ]
     },
     "execution_count": 20,
     "metadata": {},
     "output_type": "execute_result"
    },
    {
     "data": {
      "image/png": "[encoded data removed]",
      "text/plain": [
       "<Figure size 432x288 with 1 Axes>"
      ]
     },
     "metadata": {
      "needs_background": "light"
     },
     "output_type": "display_data"
    }
   ],
   "source": [
    "#Scatter plot of height and weight\n",
    "x=df['Height_cm']\n",
    "y=df['Weight_kg']\n",
    "plt.scatter(x,y)\n"
   ]
  },
  {
   "cell_type": "code",
   "execution_count": null,
   "id": "warming-portal",
   "metadata": {},
   "outputs": [],
   "source": []
  }
 ],
 "metadata": {
  "kernelspec": {
   "display_name": "Python 3",
   "language": "python",
   "name": "python3"
  },
  "language_info": {
   "codemirror_mode": {
    "name": "ipython",
    "version": 3
   },
   "file_extension": ".py",
   "mimetype": "text/x-python",
   "name": "python",
   "nbconvert_exporter": "python",
   "pygments_lexer": "ipython3",
   "version": "3.9.0"
  }
 },
 "nbformat": 4,
 "nbformat_minor": 5
}
